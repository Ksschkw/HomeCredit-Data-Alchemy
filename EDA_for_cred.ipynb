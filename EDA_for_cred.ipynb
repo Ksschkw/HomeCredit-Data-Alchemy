{
 "cells": [
  {
   "cell_type": "code",
   "execution_count": 17,
   "id": "a9d63115-3980-45e4-baa9-313ad3fe7d72",
   "metadata": {
    "collapsed": true,
    "jupyter": {
     "outputs_hidden": true,
     "source_hidden": true
    }
   },
   "outputs": [
    {
     "name": "stdout",
     "output_type": "stream",
     "text": [
      "Requirement already satisfied: bayesian-optimization in c:\\users\\kosisochukwu\\anaconda3\\lib\\site-packages (3.0.0)\n",
      "Requirement already satisfied: colorama<1.0.0,>=0.4.6 in c:\\users\\kosisochukwu\\appdata\\roaming\\python\\python312\\site-packages (from bayesian-optimization) (0.4.6)\n",
      "Requirement already satisfied: numpy>=1.25 in c:\\users\\kosisochukwu\\appdata\\roaming\\python\\python312\\site-packages (from bayesian-optimization) (1.26.4)\n",
      "Requirement already satisfied: scikit-learn<2.0.0,>=1.0.0 in c:\\users\\kosisochukwu\\appdata\\roaming\\python\\python312\\site-packages (from bayesian-optimization) (1.6.1)\n",
      "Requirement already satisfied: scipy<2.0.0,>=1.0.0 in c:\\users\\kosisochukwu\\appdata\\roaming\\python\\python312\\site-packages (from bayesian-optimization) (1.13.1)\n",
      "Requirement already satisfied: joblib>=1.2.0 in c:\\users\\kosisochukwu\\appdata\\roaming\\python\\python312\\site-packages (from scikit-learn<2.0.0,>=1.0.0->bayesian-optimization) (1.4.2)\n",
      "Requirement already satisfied: threadpoolctl>=3.1.0 in c:\\users\\kosisochukwu\\appdata\\roaming\\python\\python312\\site-packages (from scikit-learn<2.0.0,>=1.0.0->bayesian-optimization) (3.6.0)\n"
     ]
    }
   ],
   "source": [
    "!pip install bayesian-optimization\n",
    "# !pip install prettytable \n",
    "# !pip install xgboost \n",
    "# !pip install seaborn \n",
    "# !pip install lightgbm "
   ]
  },
  {
   "cell_type": "code",
   "execution_count": 134,
   "id": "98b07acf-8937-46be-ae9a-90b78a64f4c4",
   "metadata": {
    "editable": true,
    "jupyter": {
     "source_hidden": true
    },
    "slideshow": {
     "slide_type": ""
    },
    "tags": []
   },
   "outputs": [],
   "source": [
    "# import warnings\n",
    "# warnings.filterwarnings(\"ignore\")\n",
    "\n",
    "# import pandas as pd\n",
    "# import matplotlib.pyplot as plt\n",
    "# import re\n",
    "# import time\n",
    "# import numpy as np\n",
    "# import gc\n",
    "# import xgboost as xgb\n",
    "# import lightgbm as lgb\n",
    "# import seaborn as sns\n",
    "# import math\n",
    "# import pickle\n",
    "# import os\n",
    "# from lightgbm import LGBMClassifier\n",
    "# from sklearn.metrics import roc_auc_score\n",
    "# from scipy.stats import randint as sp_randint\n",
    "# from sklearn.model_selection import KFold, StratifiedKFold\n",
    "# from prettytable import PrettyTable\n",
    "# from sklearn.metrics import roc_curve, auc\n",
    "# from sklearn.model_selection import train_test_split\n",
    "# from sklearn.preprocessing import normalize\n",
    "# from sklearn.feature_selection import SelectKBest\n",
    "# from sklearn.feature_selection import f_classif\n",
    "# from sklearn.metrics import confusion_matrix\n",
    "# # I Fixed an import: importing directly from sklearn.metrics instead of sklearn.metrics.classification, the code is from 2021 so it is expected\n",
    "# from sklearn.metrics import accuracy_score, log_loss\n",
    "# from sklearn.linear_model import SGDClassifier\n",
    "# from collections import Counter\n",
    "# from scipy.sparse import hstack\n",
    "# from sklearn.calibration import CalibratedClassifierCV\n",
    "# from sklearn.model_selection import train_test_split\n",
    "# from sklearn.model_selection import GridSearchCV\n",
    "# from sklearn.model_selection import RandomizedSearchCV\n",
    "# from sklearn.preprocessing import StandardScaler\n",
    "# from sklearn.ensemble import RandomForestClassifier\n",
    "# from bayes_opt import BayesianOptimization\n",
    "# from sklearn import model_selection\n",
    "# from sklearn.linear_model import LogisticRegression\n",
    "# from datetime import datetime"
   ]
  },
  {
   "cell_type": "code",
   "execution_count": 29,
   "id": "209dc1e5-61c7-4149-acdb-19f1da6eeb44",
   "metadata": {
    "editable": true,
    "slideshow": {
     "slide_type": ""
    },
    "tags": []
   },
   "outputs": [],
   "source": [
    "# # it was written on the medium to Refer to :- https://www.kaggle.com/rinnqd/reduce-memory-usage\n",
    "\n",
    "# def reduce_memory_usage(df):\n",
    "  \n",
    "#     start_mem = df.memory_usage().sum() / 1024**2\n",
    "#     print('Memory usage of dataframe is {:.2f} MB'.format(start_mem))\n",
    "    \n",
    "#     for col in df.columns:\n",
    "#         col_type = df[col].dtype\n",
    "        \n",
    "#         if col_type != object:\n",
    "#             c_min = df[col].min()\n",
    "#             c_max = df[col].max()\n",
    "#             if str(col_type)[:3] == 'int':\n",
    "#                 if c_min > np.iinfo(np.int8).min and c_max < np.iinfo(np.int8).max:\n",
    "#                     df[col] = df[col].astype(np.int8)\n",
    "#                 elif c_min > np.iinfo(np.int16).min and c_max < np.iinfo(np.int16).max:\n",
    "#                     df[col] = df[col].astype(np.int16)\n",
    "#                 elif c_min > np.iinfo(np.int32).min and c_max < np.iinfo(np.int32).max:\n",
    "#                     df[col] = df[col].astype(np.int32)\n",
    "#                 elif c_min > np.iinfo(np.int64).min and c_max < np.iinfo(np.int64).max:\n",
    "#                     df[col] = df[col].astype(np.int64)  \n",
    "#             else:\n",
    "#                 if c_min > np.finfo(np.float16).min and c_max < np.finfo(np.float16).max:\n",
    "#                     df[col] = df[col].astype(np.float16)\n",
    "#                 elif c_min > np.finfo(np.float32).min and c_max < np.finfo(np.float32).max:\n",
    "#                     df[col] = df[col].astype(np.float32)\n",
    "#                 else:\n",
    "#                     df[col] = df[col].astype(np.float64)\n",
    "\n",
    "#     end_mem = df.memory_usage().sum() / 1024**2\n",
    "#     print('Memory usage after optimization is: {:.2f} MB'.format(end_mem))\n",
    "#     print('Decreased by {:.1f}%'.format(100 * (start_mem - end_mem) / start_mem))\n",
    "    \n",
    "#     return df"
   ]
  },
  {
   "cell_type": "markdown",
   "id": "f8188ceb-000a-4975-b8f4-5aece1c6b959",
   "metadata": {},
   "source": [
    "# Overview of CSVs"
   ]
  },
  {
   "cell_type": "code",
   "execution_count": 144,
   "id": "cefc8a72-8c26-417c-bdaf-954e8a29e277",
   "metadata": {
    "editable": true,
    "slideshow": {
     "slide_type": ""
    },
    "tags": []
   },
   "outputs": [],
   "source": [
    "# train_data = reduce_memory_usage(pd.read_csv(\"application_train.csv\"))\n",
    "# print(\"Number of data point\", train_data.shape[0])\n",
    "# print(\"Number of features\", train_data.shape[1])\n",
    "# # train_data.head()\n",
    "# print(\"Featurs/Columns of application_train.csv: \\n\", train_data.columns.tolist())"
   ]
  },
  {
   "cell_type": "code",
   "execution_count": 146,
   "id": "27dd77f4-6de0-4b49-9621-b7010f3f92b0",
   "metadata": {
    "editable": true,
    "scrolled": true,
    "slideshow": {
     "slide_type": ""
    },
    "tags": []
   },
   "outputs": [],
   "source": [
    "# test_data = reduce_memory_usage(pd.read_csv('application_test.csv'))\n",
    "# print('Number of data points :', test_data.shape[0])\n",
    "# print('Number of features :', test_data.shape[1])\n",
    "# display(test_data.head())\n",
    "# # display(test_data.describe())"
   ]
  },
  {
   "cell_type": "code",
   "execution_count": 148,
   "id": "8d17d1f4-45e8-4fa8-8b8a-3580965a9b60",
   "metadata": {},
   "outputs": [],
   "source": [
    "# bureau_data = reduce_memory_usage(pd.read_csv('bureau.csv'))\n",
    "# print('Number of data points :', bureau_data.shape[0])\n",
    "# print('Number of features :', bureau_data.shape[1])\n",
    "# display(bureau_data.head())"
   ]
  },
  {
   "cell_type": "code",
   "execution_count": 150,
   "id": "e3ff215b-bec1-481c-90fe-860980ca5c54",
   "metadata": {
    "editable": true,
    "slideshow": {
     "slide_type": ""
    },
    "tags": []
   },
   "outputs": [],
   "source": [
    "# bureau_balance = reduce_memory_usage(pd.read_csv('bureau_balance.csv'))\n",
    "# print('Number of data points :', bureau_balance.shape[0])\n",
    "# print('Number of features :', bureau_balance.shape[1])\n",
    "# display(bureau_balance.head())"
   ]
  },
  {
   "cell_type": "code",
   "execution_count": 152,
   "id": "80f3a762-f1e4-4aea-a136-e30bc8c7d956",
   "metadata": {
    "editable": true,
    "scrolled": true,
    "slideshow": {
     "slide_type": ""
    },
    "tags": []
   },
   "outputs": [],
   "source": [
    "# previous_application = pd.read_csv('previous_application.csv')\n",
    "# print('Number of data points :', previous_application.shape[0])\n",
    "# print('Number of features :', previous_application.shape[1])\n",
    "# display(previous_application.head())"
   ]
  },
  {
   "cell_type": "code",
   "execution_count": 154,
   "id": "dba01ea8-5a26-4871-867e-3b747a059dcc",
   "metadata": {
    "editable": true,
    "slideshow": {
     "slide_type": ""
    },
    "tags": []
   },
   "outputs": [],
   "source": [
    "# pos_cash_balance = pd.read_csv('POS_CASH_balance.csv')\n",
    "# print('Number of data points :', pos_cash_balance.shape[0])\n",
    "# print('Number of features :', pos_cash_balance.shape[1])\n",
    "# display(pos_cash_balance.head())"
   ]
  },
  {
   "cell_type": "code",
   "execution_count": 156,
   "id": "55cf7dff-ab39-42c3-8cf5-ad8c8be45b62",
   "metadata": {
    "editable": true,
    "slideshow": {
     "slide_type": ""
    },
    "tags": []
   },
   "outputs": [],
   "source": [
    "# installments_payments = pd.read_csv('installments_payments.csv')\n",
    "# print('Number of data points :', installments_payments.shape[0])\n",
    "# print('Number of features :', installments_payments.shape[1])\n",
    "# display(installments_payments.head())"
   ]
  },
  {
   "cell_type": "code",
   "execution_count": 158,
   "id": "7c92de2b-d62f-4f36-b659-94f01c9ef9ea",
   "metadata": {
    "editable": true,
    "slideshow": {
     "slide_type": ""
    },
    "tags": []
   },
   "outputs": [],
   "source": [
    "# credit_card_balance = pd.read_csv('credit_card_balance.csv')\n",
    "# print('Number of data points :', credit_card_balance.shape[0])\n",
    "# print('Number of features :', credit_card_balance.shape[1])\n",
    "# display(credit_card_balance.head())"
   ]
  },
  {
   "cell_type": "code",
   "execution_count": 166,
   "id": "bd317143-c2dd-4d91-adfb-14a488cfc0a6",
   "metadata": {},
   "outputs": [],
   "source": [
    "# columns_description = pd.read_csv('HomeCredit_columns_description.csv', encoding='latin1')\n",
    "# display(columns_description.head())"
   ]
  },
  {
   "cell_type": "markdown",
   "id": "6ca8dc3c-a019-45e0-9208-08b0cf62064e",
   "metadata": {
    "editable": true,
    "slideshow": {
     "slide_type": ""
    },
    "tags": []
   },
   "source": [
    "# FULL VIEW OF EACH FEATURES"
   ]
  },
  {
   "cell_type": "code",
   "execution_count": 160,
   "id": "c5aa141a-06fe-487d-848e-bb787b2be15a",
   "metadata": {},
   "outputs": [],
   "source": [
    "# train_data = reduce_memory_usage(pd.read_csv(\"application_train.csv\"))\n",
    "# test_data = reduce_memory_usage(pd.read_csv('application_test.csv'))\n",
    "# bureau_data = reduce_memory_usage(pd.read_csv('bureau.csv'))\n",
    "# bureau_balance = reduce_memory_usage(pd.read_csv('bureau_balance.csv'))\n",
    "# previous_application = pd.read_csv('previous_application.csv')\n",
    "# pos_cash_balance = pd.read_csv('POS_CASH_balance.csv')\n",
    "# installments_payments = pd.read_csv('installments_payments.csv')\n",
    "# credit_card_balance = pd.read_csv('credit_card_balance.csv')\n",
    "\n",
    "# # THE FEATURES OF EACH\n",
    "# print(\"Featurs/Columns of application_train: \\n\",train_data.columns.tolist())\n",
    "# print(\"Featurs/Columns of application_test: \\n\",test_data.columns.tolist())\n",
    "# print(\"Featurs/Columns of bureau_data: \\n\",bureau_data.columns.tolist())\n",
    "# print(\"Featurs/Columns of bureau_balance: \\n\",bureau_balance.columns.tolist())\n",
    "# print(\"Featurs/Columns of previous_application: \\n\",previous_application.columns.tolist())\n",
    "# print(\"Featurs/Columns of POS_CASH_balance: \\n\",pos_cash_balance.columns.tolist())\n",
    "# print(\"Featurs/Columns of installments_payments: \\n\",installments_payments.columns.tolist())\n",
    "# print(\"Featurs/Columns of credit_card_balance: \\n\",credit_card_balance.columns.tolist())\n"
   ]
  },
  {
   "cell_type": "markdown",
   "id": "830024ad-f805-4808-a1a6-d84320662a49",
   "metadata": {
    "editable": true,
    "slideshow": {
     "slide_type": ""
    },
    "tags": []
   },
   "source": [
    "## EDA on the ‘Application Train’ Dataset"
   ]
  },
  {
   "cell_type": "code",
   "execution_count": 162,
   "id": "d9ea6d62-582b-4f5d-b4fd-ed5c5f9e3435",
   "metadata": {},
   "outputs": [],
   "source": [
    "# # Refer :- https://matplotlib.org/gallery/pie_and_polar_charts/pie_and_donut_labels.html#sphx-glr-gallery-pie-and-polar-charts-pie-and-donut-labels-py\n",
    "\n",
    "# y_value_counts = train_data['TARGET'].value_counts()\n",
    "# print(\"Number of customers who will not repay the loan on time: \", y_value_counts[1], \", (\", (y_value_counts[1]/(y_value_counts[1]+y_value_counts[0]))*100,\"%)\")\n",
    "# print(\"Number of customers who will repay the loan on time: \", y_value_counts[0], \", (\", (y_value_counts[0]/(y_value_counts[1]+y_value_counts[0]))*100,\"%)\")\n",
    "\n",
    "# fig, ax = plt.subplots(figsize=(6, 6), subplot_kw=dict(aspect=\"equal\"))\n",
    "# recipe = [\"Will not Repay\", \"Will Repay\"]\n",
    "\n",
    "# data = [y_value_counts[1], y_value_counts[0]]\n",
    "\n",
    "# wedges, texts = ax.pie(data, wedgeprops=dict(width=0.5),\\\n",
    "#                        startangle=-40)\n",
    "\n",
    "# bbox_props = dict(boxstyle=\"square,pad=0.3\", fc=\"w\", ec=\"k\", lw=0.72)\n",
    "# kw = dict(xycoords='data', textcoords='data', arrowprops=dict(arrowstyle=\"-\"),\n",
    "#           bbox=bbox_props, zorder=0, va=\"center\")\n",
    "\n",
    "# for i, p in enumerate(wedges):\n",
    "#     ang = (p.theta2 - p.theta1)/2. + p.theta1\n",
    "#     y = np.sin(np.deg2rad(ang))\n",
    "#     x = np.cos(np.deg2rad(ang))\n",
    "#     horizontalalignment = {-1: \"right\", 1: \"left\"}[int(np.sign(x))]\n",
    "#     connectionstyle = \"angle,angleA=0,angleB={}\".format(ang)\n",
    "#     kw[\"arrowprops\"].update({\"connectionstyle\": connectionstyle})\n",
    "#     ax.annotate(recipe[i], xy=(x, y), xytext=(1.35*np.sign(x), 1.4*y),\n",
    "#                  horizontalalignment=horizontalalignment, **kw)\n",
    "\n",
    "# ax.set_title(\"Number of loans that are repaid and not repaid\")\n",
    "\n",
    "# plt.show()"
   ]
  },
  {
   "cell_type": "code",
   "execution_count": null,
   "id": "3ca199da-b31b-41bf-8879-bf8bef767aa0",
   "metadata": {},
   "outputs": [],
   "source": []
  }
 ],
 "metadata": {
  "kernelspec": {
   "display_name": "Python 3 (ipykernel)",
   "language": "python",
   "name": "python3"
  },
  "language_info": {
   "codemirror_mode": {
    "name": "ipython",
    "version": 3
   },
   "file_extension": ".py",
   "mimetype": "text/x-python",
   "name": "python",
   "nbconvert_exporter": "python",
   "pygments_lexer": "ipython3",
   "version": "3.12.3"
  }
 },
 "nbformat": 4,
 "nbformat_minor": 5
}
